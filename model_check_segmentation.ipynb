{
 "cells": [
  {
   "cell_type": "code",
   "execution_count": 1,
   "id": "328e7a0e",
   "metadata": {},
   "outputs": [],
   "source": [
    "# !pip install ultralytics"
   ]
  },
  {
   "cell_type": "code",
   "execution_count": 15,
   "id": "ec67eaa1",
   "metadata": {},
   "outputs": [],
   "source": [
    "from ultralytics import YOLO\n",
    "import cv2\n",
    "from ultralytics.utils.plotting import Annotator  # ultralytics.yolo.utils.plotting is deprecated\n"
   ]
  },
  {
   "cell_type": "code",
   "execution_count": 3,
   "id": "b210547c",
   "metadata": {},
   "outputs": [],
   "source": [
    "model_bubble_path = \"manga_segmentation\\\\best.pt\"\n",
    "model = YOLO(model_bubble_path)"
   ]
  },
  {
   "cell_type": "code",
   "execution_count": 4,
   "id": "75fde2c4",
   "metadata": {},
   "outputs": [
    {
     "data": {
      "text/plain": [
       "<ultralytics.models.yolo.model.YOLO at 0x235655c4040>"
      ]
     },
     "execution_count": 4,
     "metadata": {},
     "output_type": "execute_result"
    }
   ],
   "source": [
    "model"
   ]
  },
  {
   "cell_type": "code",
   "execution_count": 5,
   "id": "ec9fe703",
   "metadata": {},
   "outputs": [
    {
     "name": "stderr",
     "output_type": "stream",
     "text": [
      "\n",
      "image 1/1 D:\\My Base\\LiveTranslatorScreen\\Sample\\2d20baab288cfc69ec786605b79ae7d3.jpg: 640x448 9 text_bubbles, 57.4ms\n",
      "Speed: 4.0ms preprocess, 57.4ms inference, 7.2ms postprocess per image at shape (1, 3, 640, 448)\n"
     ]
    }
   ],
   "source": [
    "sample_image = \"Sample\\\\2d20baab288cfc69ec786605b79ae7d3.jpg\"\n",
    "result = model.predict(sample_image)"
   ]
  },
  {
   "cell_type": "code",
   "execution_count": 6,
   "id": "3f4217d7",
   "metadata": {},
   "outputs": [],
   "source": [
    "result_0 = result[0]"
   ]
  },
  {
   "cell_type": "code",
   "execution_count": 7,
   "id": "dfb276f9",
   "metadata": {},
   "outputs": [
    {
     "data": {
      "text/plain": [
       "ultralytics.engine.results.Results object with attributes:\n",
       "\n",
       "boxes: ultralytics.engine.results.Boxes object\n",
       "keypoints: None\n",
       "masks: None\n",
       "names: {0: 'text_bubble'}\n",
       "orig_img: array([[[254, 254, 254],\n",
       "        [254, 254, 254],\n",
       "        [254, 254, 254],\n",
       "        ...,\n",
       "        [254, 254, 254],\n",
       "        [254, 254, 254],\n",
       "        [254, 254, 254]],\n",
       "\n",
       "       [[254, 254, 254],\n",
       "        [254, 254, 254],\n",
       "        [254, 254, 254],\n",
       "        ...,\n",
       "        [254, 254, 254],\n",
       "        [254, 254, 254],\n",
       "        [254, 254, 254]],\n",
       "\n",
       "       [[254, 254, 254],\n",
       "        [254, 254, 254],\n",
       "        [254, 254, 254],\n",
       "        ...,\n",
       "        [254, 254, 254],\n",
       "        [254, 254, 254],\n",
       "        [254, 254, 254]],\n",
       "\n",
       "       ...,\n",
       "\n",
       "       [[254, 254, 254],\n",
       "        [254, 254, 254],\n",
       "        [254, 254, 254],\n",
       "        ...,\n",
       "        [254, 254, 254],\n",
       "        [254, 254, 254],\n",
       "        [254, 254, 254]],\n",
       "\n",
       "       [[254, 254, 254],\n",
       "        [254, 254, 254],\n",
       "        [254, 254, 254],\n",
       "        ...,\n",
       "        [254, 254, 254],\n",
       "        [254, 254, 254],\n",
       "        [254, 254, 254]],\n",
       "\n",
       "       [[254, 254, 254],\n",
       "        [254, 254, 254],\n",
       "        [254, 254, 254],\n",
       "        ...,\n",
       "        [254, 254, 254],\n",
       "        [254, 254, 254],\n",
       "        [254, 254, 254]]], dtype=uint8)\n",
       "orig_shape: (765, 533)\n",
       "path: 'D:\\\\My Base\\\\LiveTranslatorScreen\\\\Sample\\\\2d20baab288cfc69ec786605b79ae7d3.jpg'\n",
       "probs: None\n",
       "save_dir: None\n",
       "speed: {'preprocess': 3.954172134399414, 'inference': 57.38258361816406, 'postprocess': 7.203817367553711}"
      ]
     },
     "execution_count": 7,
     "metadata": {},
     "output_type": "execute_result"
    }
   ],
   "source": [
    "result_0"
   ]
  },
  {
   "cell_type": "code",
   "execution_count": 8,
   "id": "d750f589",
   "metadata": {},
   "outputs": [
    {
     "data": {
      "text/plain": [
       "9"
      ]
     },
     "execution_count": 8,
     "metadata": {},
     "output_type": "execute_result"
    }
   ],
   "source": [
    "len(result_0.boxes)"
   ]
  },
  {
   "cell_type": "code",
   "execution_count": 9,
   "id": "0322d9e1",
   "metadata": {},
   "outputs": [],
   "source": [
    "box = result_0.boxes[0]"
   ]
  },
  {
   "cell_type": "code",
   "execution_count": 10,
   "id": "2e013ea9",
   "metadata": {},
   "outputs": [
    {
     "name": "stdout",
     "output_type": "stream",
     "text": [
      "Object type: tensor([0.], device='cuda:0')\n",
      "Coordinates: tensor([[436.1663, 547.3246, 504.6639, 664.3619]], device='cuda:0')\n",
      "Probability: tensor([0.9104], device='cuda:0')\n"
     ]
    }
   ],
   "source": [
    "print(\"Object type:\", box.cls)\n",
    "print(\"Coordinates:\", box.xyxy)\n",
    "print(\"Probability:\", box.conf)"
   ]
  },
  {
   "cell_type": "code",
   "execution_count": 11,
   "id": "f2e50f61",
   "metadata": {},
   "outputs": [
    {
     "name": "stdout",
     "output_type": "stream",
     "text": [
      "Object type: 0.0\n",
      "Coordinates: [436.1662902832031, 547.3245849609375, 504.66387939453125, 664.3618774414062]\n",
      "Probability: 0.9104224443435669\n"
     ]
    }
   ],
   "source": [
    "cords = box.xyxy[0].tolist()\n",
    "class_id = box.cls[0].item()\n",
    "conf = box.conf[0].item()\n",
    "print(\"Object type:\", class_id)\n",
    "print(\"Coordinates:\", cords)\n",
    "print(\"Probability:\", conf)"
   ]
  },
  {
   "cell_type": "code",
   "execution_count": 12,
   "id": "a669d6bb",
   "metadata": {},
   "outputs": [
    {
     "name": "stdout",
     "output_type": "stream",
     "text": [
      "{0: 'text_bubble'}\n"
     ]
    }
   ],
   "source": [
    "print(result_0.names)"
   ]
  },
  {
   "cell_type": "code",
   "execution_count": 13,
   "id": "dca72c42",
   "metadata": {},
   "outputs": [
    {
     "name": "stdout",
     "output_type": "stream",
     "text": [
      "Object type: text_bubble\n",
      "Coordinates: [436, 547, 505, 664]\n",
      "Probability: 0.91\n"
     ]
    }
   ],
   "source": [
    "cords = box.xyxy[0].tolist()\n",
    "cords = [round(x) for x in cords]\n",
    "class_id = result_0.names[box.cls[0].item()]\n",
    "conf = round(box.conf[0].item(), 2)\n",
    "print(\"Object type:\", class_id)\n",
    "print(\"Coordinates:\", cords)\n",
    "print(\"Probability:\", conf)"
   ]
  },
  {
   "cell_type": "code",
   "execution_count": 14,
   "id": "a45d7f71",
   "metadata": {},
   "outputs": [
    {
     "name": "stdout",
     "output_type": "stream",
     "text": [
      "Object type: text_bubble\n",
      "Coordinates: [436, 547, 505, 664]\n",
      "Probability: 0.91\n",
      "---\n",
      "Object type: text_bubble\n",
      "Coordinates: [410, 290, 502, 431]\n",
      "Probability: 0.9\n",
      "---\n",
      "Object type: text_bubble\n",
      "Coordinates: [192, 550, 230, 617]\n",
      "Probability: 0.86\n",
      "---\n",
      "Object type: text_bubble\n",
      "Coordinates: [63, 365, 158, 513]\n",
      "Probability: 0.86\n",
      "---\n",
      "Object type: text_bubble\n",
      "Coordinates: [65, 647, 86, 700]\n",
      "Probability: 0.85\n",
      "---\n",
      "Object type: text_bubble\n",
      "Coordinates: [402, 455, 420, 495]\n",
      "Probability: 0.83\n",
      "---\n",
      "Object type: text_bubble\n",
      "Coordinates: [16, 93, 50, 384]\n",
      "Probability: 0.57\n",
      "---\n",
      "Object type: text_bubble\n",
      "Coordinates: [15, 460, 53, 723]\n",
      "Probability: 0.46\n",
      "---\n",
      "Object type: text_bubble\n",
      "Coordinates: [253, 724, 284, 746]\n",
      "Probability: 0.45\n",
      "---\n"
     ]
    }
   ],
   "source": [
    "for box in result_0.boxes:\n",
    "    class_id = result_0.names[box.cls[0].item()]\n",
    "    cords = box.xyxy[0].tolist()\n",
    "    cords = [round(x) for x in cords]\n",
    "    conf = round(box.conf[0].item(), 2)\n",
    "    print(\"Object type:\", class_id)\n",
    "    print(\"Coordinates:\", cords)\n",
    "    print(\"Probability:\", conf)\n",
    "    print(\"---\")"
   ]
  },
  {
   "cell_type": "code",
   "execution_count": 20,
   "id": "11fba4f6",
   "metadata": {},
   "outputs": [],
   "source": [
    "# for r in result:\n",
    "        \n",
    "#     annotator = Annotator(frame)\n",
    "\n",
    "#     boxes = r.boxes\n",
    "#     for box in boxes:\n",
    "\n",
    "#         b = box.xyxy[0]  # get box coordinates in (top, left, bottom, right) format\n",
    "#         c = box.cls\n",
    "#         annotator.box_label(b, model.names[int(c)])\n",
    "          \n",
    "#     frame = annotator.result()  \n",
    "#     cv2.imshow('YOLO V8 Detection', frame)     \n",
    "#     if cv2.waitKey(1) & 0xFF == ord(' '):\n",
    "#         break\n",
    "\n",
    "# cap.release()\n",
    "# cv2.destroyAllWindows()"
   ]
  },
  {
   "cell_type": "code",
   "execution_count": 19,
   "id": "e436fd9d",
   "metadata": {},
   "outputs": [
    {
     "name": "stderr",
     "output_type": "stream",
     "text": [
      "Ultralytics YOLOv8.0.171  Python-3.10.10 torch-2.0.1 CUDA:0 (NVIDIA GeForce RTX 2060, 6144MiB)\n",
      "Model summary (fused): 168 layers, 3005843 parameters, 0 gradients\n",
      "\n",
      "image 1/1 D:\\My Base\\LiveTranslatorScreen\\Sample\\2d20baab288cfc69ec786605b79ae7d3.jpg: 640x448 9 text_bubbles, 57.0ms\n",
      "Speed: 2.8ms preprocess, 57.0ms inference, 80.8ms postprocess per image at shape (1, 3, 640, 448)\n",
      "Results saved to \u001b[1mruns\\detect\\predict\u001b[0m\n"
     ]
    }
   ],
   "source": [
    "!yolo predict model=manga_segmentation\\best.pt source='Sample\\\\2d20baab288cfc69ec786605b79ae7d3.jpg'"
   ]
  },
  {
   "cell_type": "code",
   "execution_count": null,
   "id": "f4a9dbe3",
   "metadata": {},
   "outputs": [],
   "source": []
  }
 ],
 "metadata": {
  "kernelspec": {
   "display_name": "Python 3 (ipykernel)",
   "language": "python",
   "name": "python3"
  },
  "language_info": {
   "codemirror_mode": {
    "name": "ipython",
    "version": 3
   },
   "file_extension": ".py",
   "mimetype": "text/x-python",
   "name": "python",
   "nbconvert_exporter": "python",
   "pygments_lexer": "ipython3",
   "version": "3.10.10"
  }
 },
 "nbformat": 4,
 "nbformat_minor": 5
}
