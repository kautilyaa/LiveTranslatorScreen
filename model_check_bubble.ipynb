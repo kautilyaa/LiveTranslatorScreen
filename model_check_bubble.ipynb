{
 "cells": [
  {
   "cell_type": "code",
   "execution_count": 1,
   "id": "328e7a0e",
   "metadata": {},
   "outputs": [
    {
     "name": "stdout",
     "output_type": "stream",
     "text": [
      "Looking in indexes: https://pypi.org/simple, https://pypi.ngc.nvidia.com\n",
      "Collecting ultralytics\n",
      "  Downloading ultralytics-8.0.171-py3-none-any.whl (614 kB)\n",
      "     ---------------------------------------- 0.0/614.2 kB ? eta -:--:--\n",
      "     ------------------------------------- 614.2/614.2 kB 12.9 MB/s eta 0:00:00\n",
      "Requirement already satisfied: matplotlib>=3.2.2 in c:\\users\\arunb\\anaconda3\\envs\\env310\\lib\\site-packages (from ultralytics) (3.7.1)\n",
      "Requirement already satisfied: tqdm>=4.64.0 in c:\\users\\arunb\\anaconda3\\envs\\env310\\lib\\site-packages (from ultralytics) (4.65.0)\n",
      "Requirement already satisfied: numpy>=1.22.2 in c:\\users\\arunb\\anaconda3\\envs\\env310\\lib\\site-packages (from ultralytics) (1.23.5)\n",
      "Requirement already satisfied: torch>=1.8.0 in c:\\users\\arunb\\anaconda3\\envs\\env310\\lib\\site-packages (from ultralytics) (2.0.1+cu118)\n",
      "Requirement already satisfied: pyyaml>=5.3.1 in c:\\users\\arunb\\anaconda3\\envs\\env310\\lib\\site-packages (from ultralytics) (6.0)\n",
      "Collecting py-cpuinfo\n",
      "  Downloading py_cpuinfo-9.0.0-py3-none-any.whl (22 kB)\n",
      "Requirement already satisfied: pandas>=1.1.4 in c:\\users\\arunb\\anaconda3\\envs\\env310\\lib\\site-packages (from ultralytics) (1.5.3)\n",
      "Requirement already satisfied: seaborn>=0.11.0 in c:\\users\\arunb\\anaconda3\\envs\\env310\\lib\\site-packages (from ultralytics) (0.12.2)\n",
      "Requirement already satisfied: pillow>=7.1.2 in c:\\users\\arunb\\anaconda3\\envs\\env310\\lib\\site-packages (from ultralytics) (9.4.0)\n",
      "Requirement already satisfied: torchvision>=0.9.0 in c:\\users\\arunb\\anaconda3\\envs\\env310\\lib\\site-packages (from ultralytics) (0.15.2+cu118)\n",
      "Requirement already satisfied: requests>=2.23.0 in c:\\users\\arunb\\anaconda3\\envs\\env310\\lib\\site-packages (from ultralytics) (2.28.1)\n",
      "Requirement already satisfied: scipy>=1.4.1 in c:\\users\\arunb\\anaconda3\\envs\\env310\\lib\\site-packages (from ultralytics) (1.10.1)\n",
      "Requirement already satisfied: psutil in c:\\users\\arunb\\anaconda3\\envs\\env310\\lib\\site-packages (from ultralytics) (5.9.0)\n",
      "Requirement already satisfied: opencv-python>=4.6.0 in c:\\users\\arunb\\anaconda3\\envs\\env310\\lib\\site-packages (from ultralytics) (4.8.0.76)\n",
      "Requirement already satisfied: packaging>=20.0 in c:\\users\\arunb\\anaconda3\\envs\\env310\\lib\\site-packages (from matplotlib>=3.2.2->ultralytics) (23.0)\n",
      "Requirement already satisfied: pyparsing>=2.3.1 in c:\\users\\arunb\\anaconda3\\envs\\env310\\lib\\site-packages (from matplotlib>=3.2.2->ultralytics) (3.0.9)\n",
      "Requirement already satisfied: contourpy>=1.0.1 in c:\\users\\arunb\\anaconda3\\envs\\env310\\lib\\site-packages (from matplotlib>=3.2.2->ultralytics) (1.0.5)\n",
      "Requirement already satisfied: cycler>=0.10 in c:\\users\\arunb\\anaconda3\\envs\\env310\\lib\\site-packages (from matplotlib>=3.2.2->ultralytics) (0.11.0)\n",
      "Requirement already satisfied: kiwisolver>=1.0.1 in c:\\users\\arunb\\anaconda3\\envs\\env310\\lib\\site-packages (from matplotlib>=3.2.2->ultralytics) (1.4.4)\n",
      "Requirement already satisfied: fonttools>=4.22.0 in c:\\users\\arunb\\anaconda3\\envs\\env310\\lib\\site-packages (from matplotlib>=3.2.2->ultralytics) (4.25.0)\n",
      "Requirement already satisfied: python-dateutil>=2.7 in c:\\users\\arunb\\anaconda3\\envs\\env310\\lib\\site-packages (from matplotlib>=3.2.2->ultralytics) (2.8.2)\n",
      "Requirement already satisfied: pytz>=2020.1 in c:\\users\\arunb\\anaconda3\\envs\\env310\\lib\\site-packages (from pandas>=1.1.4->ultralytics) (2022.7)\n",
      "Requirement already satisfied: urllib3<1.27,>=1.21.1 in c:\\users\\arunb\\anaconda3\\envs\\env310\\lib\\site-packages (from requests>=2.23.0->ultralytics) (1.26.15)\n",
      "Requirement already satisfied: charset-normalizer<3,>=2 in c:\\users\\arunb\\anaconda3\\envs\\env310\\lib\\site-packages (from requests>=2.23.0->ultralytics) (2.0.4)\n",
      "Requirement already satisfied: certifi>=2017.4.17 in c:\\users\\arunb\\anaconda3\\envs\\env310\\lib\\site-packages (from requests>=2.23.0->ultralytics) (2023.5.7)\n",
      "Requirement already satisfied: idna<4,>=2.5 in c:\\users\\arunb\\anaconda3\\envs\\env310\\lib\\site-packages (from requests>=2.23.0->ultralytics) (3.4)\n",
      "Requirement already satisfied: filelock in c:\\users\\arunb\\anaconda3\\envs\\env310\\lib\\site-packages (from torch>=1.8.0->ultralytics) (3.9.0)\n",
      "Requirement already satisfied: typing-extensions in c:\\users\\arunb\\anaconda3\\envs\\env310\\lib\\site-packages (from torch>=1.8.0->ultralytics) (4.4.0)\n",
      "Requirement already satisfied: jinja2 in c:\\users\\arunb\\anaconda3\\envs\\env310\\lib\\site-packages (from torch>=1.8.0->ultralytics) (3.1.2)\n",
      "Requirement already satisfied: networkx in c:\\users\\arunb\\anaconda3\\envs\\env310\\lib\\site-packages (from torch>=1.8.0->ultralytics) (2.8.4)\n",
      "Requirement already satisfied: sympy in c:\\users\\arunb\\anaconda3\\envs\\env310\\lib\\site-packages (from torch>=1.8.0->ultralytics) (1.11.1)\n",
      "Requirement already satisfied: colorama in c:\\users\\arunb\\anaconda3\\envs\\env310\\lib\\site-packages (from tqdm>=4.64.0->ultralytics) (0.4.6)\n",
      "Requirement already satisfied: six>=1.5 in c:\\users\\arunb\\anaconda3\\envs\\env310\\lib\\site-packages (from python-dateutil>=2.7->matplotlib>=3.2.2->ultralytics) (1.16.0)\n",
      "Requirement already satisfied: MarkupSafe>=2.0 in c:\\users\\arunb\\anaconda3\\envs\\env310\\lib\\site-packages (from jinja2->torch>=1.8.0->ultralytics) (2.1.1)\n",
      "Requirement already satisfied: mpmath>=0.19 in c:\\users\\arunb\\anaconda3\\envs\\env310\\lib\\site-packages (from sympy->torch>=1.8.0->ultralytics) (1.2.1)\n",
      "Installing collected packages: py-cpuinfo, ultralytics\n",
      "Successfully installed py-cpuinfo-9.0.0 ultralytics-8.0.171\n"
     ]
    }
   ],
   "source": [
    "!pip install ultralytics"
   ]
  },
  {
   "cell_type": "code",
   "execution_count": 2,
   "id": "ec67eaa1",
   "metadata": {},
   "outputs": [],
   "source": [
    "from ultralytics import YOLO"
   ]
  },
  {
   "cell_type": "code",
   "execution_count": 4,
   "id": "b210547c",
   "metadata": {},
   "outputs": [],
   "source": [
    "model_bubble_path = \"managa_bubble\\\\best.pt\"\n",
    "model = YOLO(model_bubble_path)"
   ]
  },
  {
   "cell_type": "code",
   "execution_count": 5,
   "id": "75fde2c4",
   "metadata": {},
   "outputs": [
    {
     "data": {
      "text/plain": [
       "<ultralytics.models.yolo.model.YOLO at 0x2ed0cb18cd0>"
      ]
     },
     "execution_count": 5,
     "metadata": {},
     "output_type": "execute_result"
    }
   ],
   "source": [
    "model"
   ]
  },
  {
   "cell_type": "code",
   "execution_count": 7,
   "id": "ec9fe703",
   "metadata": {},
   "outputs": [
    {
     "name": "stderr",
     "output_type": "stream",
     "text": [
      "\n",
      "image 1/1 D:\\My Base\\LiveTranslatorScreen\\Sample\\2d20baab288cfc69ec786605b79ae7d3.jpg: 640x448 7 text_bubbles, 1 text_free, 15.1ms\n",
      "Speed: 5.0ms preprocess, 15.1ms inference, 4.0ms postprocess per image at shape (1, 3, 640, 448)\n"
     ]
    }
   ],
   "source": [
    "sample_image = \"Sample\\\\2d20baab288cfc69ec786605b79ae7d3.jpg\"\n",
    "result = model.predict(sample_image)"
   ]
  },
  {
   "cell_type": "code",
   "execution_count": 9,
   "id": "3f4217d7",
   "metadata": {},
   "outputs": [],
   "source": [
    "result_0 = result[0]"
   ]
  },
  {
   "cell_type": "code",
   "execution_count": 10,
   "id": "dfb276f9",
   "metadata": {},
   "outputs": [
    {
     "data": {
      "text/plain": [
       "ultralytics.engine.results.Results object with attributes:\n",
       "\n",
       "boxes: ultralytics.engine.results.Boxes object\n",
       "keypoints: None\n",
       "masks: None\n",
       "names: {0: 'text_bubble', 1: 'text_free'}\n",
       "orig_img: array([[[254, 254, 254],\n",
       "        [254, 254, 254],\n",
       "        [254, 254, 254],\n",
       "        ...,\n",
       "        [254, 254, 254],\n",
       "        [254, 254, 254],\n",
       "        [254, 254, 254]],\n",
       "\n",
       "       [[254, 254, 254],\n",
       "        [254, 254, 254],\n",
       "        [254, 254, 254],\n",
       "        ...,\n",
       "        [254, 254, 254],\n",
       "        [254, 254, 254],\n",
       "        [254, 254, 254]],\n",
       "\n",
       "       [[254, 254, 254],\n",
       "        [254, 254, 254],\n",
       "        [254, 254, 254],\n",
       "        ...,\n",
       "        [254, 254, 254],\n",
       "        [254, 254, 254],\n",
       "        [254, 254, 254]],\n",
       "\n",
       "       ...,\n",
       "\n",
       "       [[254, 254, 254],\n",
       "        [254, 254, 254],\n",
       "        [254, 254, 254],\n",
       "        ...,\n",
       "        [254, 254, 254],\n",
       "        [254, 254, 254],\n",
       "        [254, 254, 254]],\n",
       "\n",
       "       [[254, 254, 254],\n",
       "        [254, 254, 254],\n",
       "        [254, 254, 254],\n",
       "        ...,\n",
       "        [254, 254, 254],\n",
       "        [254, 254, 254],\n",
       "        [254, 254, 254]],\n",
       "\n",
       "       [[254, 254, 254],\n",
       "        [254, 254, 254],\n",
       "        [254, 254, 254],\n",
       "        ...,\n",
       "        [254, 254, 254],\n",
       "        [254, 254, 254],\n",
       "        [254, 254, 254]]], dtype=uint8)\n",
       "orig_shape: (765, 533)\n",
       "path: 'D:\\\\My Base\\\\LiveTranslatorScreen\\\\Sample\\\\2d20baab288cfc69ec786605b79ae7d3.jpg'\n",
       "probs: None\n",
       "save_dir: None\n",
       "speed: {'preprocess': 4.991054534912109, 'inference': 15.069246292114258, 'postprocess': 4.000425338745117}"
      ]
     },
     "execution_count": 10,
     "metadata": {},
     "output_type": "execute_result"
    }
   ],
   "source": [
    "result_0"
   ]
  },
  {
   "cell_type": "code",
   "execution_count": 11,
   "id": "d750f589",
   "metadata": {},
   "outputs": [
    {
     "data": {
      "text/plain": [
       "8"
      ]
     },
     "execution_count": 11,
     "metadata": {},
     "output_type": "execute_result"
    }
   ],
   "source": [
    "len(result_0.boxes)"
   ]
  },
  {
   "cell_type": "code",
   "execution_count": 12,
   "id": "0322d9e1",
   "metadata": {},
   "outputs": [],
   "source": [
    "box = result_0.boxes[0]"
   ]
  },
  {
   "cell_type": "code",
   "execution_count": 13,
   "id": "2e013ea9",
   "metadata": {},
   "outputs": [
    {
     "name": "stdout",
     "output_type": "stream",
     "text": [
      "Object type: tensor([0.], device='cuda:0')\n",
      "Coordinates: tensor([[429.6624, 545.8671, 507.8521, 670.4526]], device='cuda:0')\n",
      "Probability: tensor([0.9523], device='cuda:0')\n"
     ]
    }
   ],
   "source": [
    "print(\"Object type:\", box.cls)\n",
    "print(\"Coordinates:\", box.xyxy)\n",
    "print(\"Probability:\", box.conf)"
   ]
  },
  {
   "cell_type": "code",
   "execution_count": 14,
   "id": "f2e50f61",
   "metadata": {},
   "outputs": [
    {
     "name": "stdout",
     "output_type": "stream",
     "text": [
      "Object type: 0.0\n",
      "Coordinates: [429.6623840332031, 545.8671264648438, 507.85205078125, 670.45263671875]\n",
      "Probability: 0.9523200392723083\n"
     ]
    }
   ],
   "source": [
    "cords = box.xyxy[0].tolist()\n",
    "class_id = box.cls[0].item()\n",
    "conf = box.conf[0].item()\n",
    "print(\"Object type:\", class_id)\n",
    "print(\"Coordinates:\", cords)\n",
    "print(\"Probability:\", conf)"
   ]
  },
  {
   "cell_type": "code",
   "execution_count": 16,
   "id": "a669d6bb",
   "metadata": {},
   "outputs": [
    {
     "name": "stdout",
     "output_type": "stream",
     "text": [
      "{0: 'text_bubble', 1: 'text_free'}\n"
     ]
    }
   ],
   "source": [
    "print(result_0.names)"
   ]
  },
  {
   "cell_type": "code",
   "execution_count": 18,
   "id": "dca72c42",
   "metadata": {},
   "outputs": [
    {
     "name": "stdout",
     "output_type": "stream",
     "text": [
      "Object type: text_bubble\n",
      "Coordinates: [430, 546, 508, 670]\n",
      "Probability: 0.95\n"
     ]
    }
   ],
   "source": [
    "cords = box.xyxy[0].tolist()\n",
    "cords = [round(x) for x in cords]\n",
    "class_id = result_0.names[box.cls[0].item()]\n",
    "conf = round(box.conf[0].item(), 2)\n",
    "print(\"Object type:\", class_id)\n",
    "print(\"Coordinates:\", cords)\n",
    "print(\"Probability:\", conf)"
   ]
  },
  {
   "cell_type": "code",
   "execution_count": 20,
   "id": "a45d7f71",
   "metadata": {},
   "outputs": [
    {
     "name": "stdout",
     "output_type": "stream",
     "text": [
      "Object type: text_bubble\n",
      "Coordinates: [430, 546, 508, 670]\n",
      "Probability: 0.95\n",
      "---\n",
      "Object type: text_bubble\n",
      "Coordinates: [402, 286, 506, 439]\n",
      "Probability: 0.94\n",
      "---\n",
      "Object type: text_bubble\n",
      "Coordinates: [184, 545, 236, 625]\n",
      "Probability: 0.93\n",
      "---\n",
      "Object type: text_bubble\n",
      "Coordinates: [59, 355, 164, 525]\n",
      "Probability: 0.89\n",
      "---\n",
      "Object type: text_bubble\n",
      "Coordinates: [59, 644, 93, 707]\n",
      "Probability: 0.88\n",
      "---\n",
      "Object type: text_bubble\n",
      "Coordinates: [397, 450, 425, 503]\n",
      "Probability: 0.87\n",
      "---\n",
      "Object type: text_bubble\n",
      "Coordinates: [58, 54, 163, 236]\n",
      "Probability: 0.38\n",
      "---\n",
      "Object type: text_free\n",
      "Coordinates: [250, 725, 286, 741]\n",
      "Probability: 0.26\n",
      "---\n"
     ]
    }
   ],
   "source": [
    "for box in result_0.boxes:\n",
    "    class_id = result_0.names[box.cls[0].item()]\n",
    "    cords = box.xyxy[0].tolist()\n",
    "    cords = [round(x) for x in cords]\n",
    "    conf = round(box.conf[0].item(), 2)\n",
    "    print(\"Object type:\", class_id)\n",
    "    print(\"Coordinates:\", cords)\n",
    "    print(\"Probability:\", conf)\n",
    "    print(\"---\")"
   ]
  },
  {
   "cell_type": "code",
   "execution_count": 21,
   "id": "11fba4f6",
   "metadata": {},
   "outputs": [
    {
     "name": "stderr",
     "output_type": "stream",
     "text": [
      "Ultralytics YOLOv8.0.171  Python-3.10.10 torch-2.0.1 CUDA:0 (NVIDIA GeForce RTX 2060, 6144MiB)\n",
      "Model summary (fused): 168 layers, 3006038 parameters, 0 gradients\n",
      "\n",
      "image 1/1 D:\\My Base\\LiveTranslatorScreen\\Sample\\2d20baab288cfc69ec786605b79ae7d3.jpg: 640x448 7 text_bubbles, 1 text_free, 59.4ms\n",
      "Speed: 2.6ms preprocess, 59.4ms inference, 77.8ms postprocess per image at shape (1, 3, 640, 448)\n",
      "Results saved to \u001b[1mruns\\detect\\predict2\u001b[0m\n"
     ]
    }
   ],
   "source": [
    "!yolo predict model=managa_bubble\\best.pt source='Sample\\\\2d20baab288cfc69ec786605b79ae7d3.jpg'"
   ]
  },
  {
   "cell_type": "code",
   "execution_count": null,
   "id": "a3a58c25",
   "metadata": {},
   "outputs": [],
   "source": []
  }
 ],
 "metadata": {
  "kernelspec": {
   "display_name": "Python 3 (ipykernel)",
   "language": "python",
   "name": "python3"
  },
  "language_info": {
   "codemirror_mode": {
    "name": "ipython",
    "version": 3
   },
   "file_extension": ".py",
   "mimetype": "text/x-python",
   "name": "python",
   "nbconvert_exporter": "python",
   "pygments_lexer": "ipython3",
   "version": "3.10.10"
  }
 },
 "nbformat": 4,
 "nbformat_minor": 5
}
